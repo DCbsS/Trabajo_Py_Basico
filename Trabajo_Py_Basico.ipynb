{
  "cells": [
    {
      "cell_type": "markdown",
      "metadata": {
        "id": "view-in-github",
        "colab_type": "text"
      },
      "source": [
        "<a href=\"https://colab.research.google.com/github/DCbsS/Trabajo_Py_Basico/blob/main/Trabajo_Py_Basico.ipynb\" target=\"_parent\"><img src=\"https://colab.research.google.com/assets/colab-badge.svg\" alt=\"Open In Colab\"/></a>"
      ]
    },
    {
      "cell_type": "code",
      "execution_count": null,
      "metadata": {
        "id": "z3OHKDFnwYs-"
      },
      "outputs": [],
      "source": [
        "import numpy as np\n",
        "import pandas as pd\n",
        "import matplotlib.pyplot as plt\n"
      ]
    },
    {
      "cell_type": "code",
      "execution_count": null,
      "metadata": {
        "id": "_E0zvYXTcu5n"
      },
      "outputs": [],
      "source": [
        "#Si se corre en colab\n",
        "#ruta='/content/lista.xlsx'\n",
        "#database=pd.read_excel(ruta)"
      ]
    },
    {
      "cell_type": "code",
      "execution_count": null,
      "metadata": {
        "id": "NLGyznLQCd66"
      },
      "outputs": [],
      "source": [
        "print('Bienvenido')\n",
        "print('0: Usar un excel ya existente')\n",
        "print('1: Crear uno nuevo')\n",
        "desicion=int(input('Ingrese: '))\n",
        "\n",
        "if desicion==0:\n",
        "  ruta=input('Porfavor ingrese la ruta del archivo(.xlsx): ')\n",
        "  database=pd.read_excel(ruta)\n",
        "elif desicion==1:\n",
        "  n_colum=int(input('Ingrese numero de columnas: '))\n",
        "  t_colum=[]\n",
        "  for i in range(n_colum):\n",
        "    t_colum.append(input('Ingrese elnombre de la columna {}'.format(i)))\n",
        "  database=pd.DataFrame(columns=t_colum)\n",
        "else:\n",
        "  print('Adios')\n",
        "if database.empty==True:\n",
        "  pass\n",
        "else:\n",
        "  continuar=\"S\"\n",
        "  while continuar==\"S\":\n",
        "    database.to_excel('lista.xlsx')\n",
        "    menu()\n",
        "    continuar=input('S para volver al menu: ').upper()\n",
        "  print(\"----------------Adios----------------\")"
      ]
    },
    {
      "cell_type": "code",
      "execution_count": null,
      "metadata": {
        "id": "LOzV5SLVGuab"
      },
      "outputs": [],
      "source": [
        "def menu():\n",
        "  global database\n",
        "  print('0: Ingresar datos(fila)')\n",
        "  print('1: Buscar datos(igual a)')\n",
        "  print('2: Filtrar por caracteristica(mayor a,menor a)')\n",
        "  print('3: Ingresar caracteristica(columna)')\n",
        "  print('4: Datos estadisticos basicos')\n",
        "  print('5: Grafica pastel')\n",
        "  print('6: Grafica de barras')\n",
        "  print('7: Grafica de puntos')\n",
        "  print('8: Mostrar tabla')\n",
        "  print('Ingrese culaquier otra cosa para salir')\n",
        "  print(\"--------------------------------\")\n",
        "  sub=input('Ingrese: ')\n",
        "  while numeric(sub)!=True:\n",
        "    sub=input('Debe ingresar un entero: ')\n",
        "  sub=int(sub)\n",
        "  if sub==0:\n",
        "    Agregar()\n",
        "  elif sub==1:\n",
        "    Buscar()\n",
        "  elif sub==2:\n",
        "    Filtrar()\n",
        "  elif sub==3:\n",
        "    Nueva_columna()\n",
        "  elif sub==4:\n",
        "    Resumen()\n",
        "  elif sub==5:\n",
        "    Grafica_pastel()\n",
        "  elif sub==6:\n",
        "    Grafica_barras()\n",
        "  elif sub==7:\n",
        "    Grafica_puntos()\n",
        "  elif sub==8:\n",
        "    print(display(database))\n",
        "  else:\n",
        "    print(\"--------------------------------\")\n",
        "  \n"
      ]
    },
    {
      "cell_type": "code",
      "execution_count": null,
      "metadata": {
        "id": "I9D1A7N87BbS"
      },
      "outputs": [],
      "source": [
        "#Verifica si un valor es numerico o no\n",
        "def numeric(data):\n",
        "  try:\n",
        "    float(data)\n",
        "    its_numeric=True\n",
        "  except ValueError:\n",
        "    its_numeric=False\n",
        "  return its_numeric\n",
        "#Verifica si un valor cuenta como fecha, regresa el valor en formato de fecha: '%Y-%m-%d'\n",
        "def fecha(data):\n",
        "  try:\n",
        "    pd.to_datetime(data,format='%Y/%m/%d')\n",
        "    its_datetime=pd.to_datetime(data,format='%Y/%m/%d')\n",
        "  except ValueError:\n",
        "     its_datetime=False\n",
        "  return its_datetime\n"
      ]
    },
    {
      "cell_type": "code",
      "execution_count": null,
      "metadata": {
        "id": "kmhHUjl4JOGg"
      },
      "outputs": [],
      "source": [
        "#Funcion para agregar nuevas filas\n",
        "def Agregar():\n",
        "  global database\n",
        "  fila={}\n",
        "  print('Porfavor ingrese: ')\n",
        "  data_class=list(database.columns)\n",
        "  for clm in data_class:\n",
        "    if str(database[clm].dtype)=='datetime64[ns]':\n",
        "      data=input('{}(AAAA/MM/DD): '.format(clm))\n",
        "    else:\n",
        "      data=input('{}: '.format(clm))\n",
        "    while type(data) != database[clm].dtype:\n",
        "      its_numeric=numeric(data)\n",
        "      if its_numeric==True and str(database[clm].dtype) == 'int64':\n",
        "        fila[clm]=int(data)\n",
        "        break\n",
        "      elif its_numeric==True and str(database[clm].dtype) == 'float64':\n",
        "        fila[clm]=float(data)\n",
        "        break\n",
        "      elif its_numeric==False and str(database[clm].dtype) == 'datetime64[ns]' and fecha(data)!=False:\n",
        "        fila[clm]=pd.to_datetime(data,format='%Y/%m/%d')\n",
        "        break\n",
        "      elif its_numeric==False and str(database[clm].dtype) != 'int64' and str(database[clm].dtype) != 'float64' and str(database[clm].dtype) != 'datetime64[ns]':\n",
        "        fila[clm]=data\n",
        "        break\n",
        "      else: #type(data) != database[clm].dtype:\n",
        "        data=input('El dato {} debe ser un numero de tipo {}: '.format(clm,str(database[clm].dtype)))\n",
        "  database=database.append(fila,ignore_index=True)\n",
        "  print(\"Se añadio:\")\n",
        "  print(fila)\n"
      ]
    },
    {
      "cell_type": "code",
      "execution_count": null,
      "metadata": {
        "id": "-X4j4y724NXi"
      },
      "outputs": [],
      "source": [
        "#Funcion para buscar en una columna\n",
        "def Buscar():\n",
        "  global database\n",
        "  data_class=list(database.columns)\n",
        "  numb=0\n",
        "  for clm in data_class:\n",
        "    print('{}: {}'.format(numb,clm))\n",
        "    numb=numb+1\n",
        "  bc=input('Buscar en: ')\n",
        "  while numeric(bc)!=True:\n",
        "    bc=input('Debe ingresar un entero: ')\n",
        "  bc=data_class[int(bc)]\n",
        "  if str(database[bc].dtype)=='datetime64[ns]':\n",
        "    print('El tipo de dato para {} es {}(AAAA/MM/DD)'.format(bc,database[bc].dtype))\n",
        "    busca=input('¿Que desea buscar?: ')\n",
        "    busca=fecha(busca)\n",
        "  else:\n",
        "    print('El tipo de dato para {} es {}'.format(bc,database[bc].dtype))\n",
        "    busca=input('¿Que desea buscar?: ')\n",
        "    if numeric(busca)==True:\n",
        "      if str(database[bc].dtype)=='int64':\n",
        "        busca=int(busca)\n",
        "    elif str(database[bc].dtype)=='float64':\n",
        "        busca=float(busca)\n",
        "  tabla=database[database[bc]==busca]\n",
        "  if tabla.empty==True:\n",
        "    print('No existe {} en {}'.format(busca,bc))\n",
        "  else:\n",
        "    display(tabla)\n"
      ]
    },
    {
      "cell_type": "code",
      "execution_count": null,
      "metadata": {
        "id": "REb3FDG4e5Et"
      },
      "outputs": [],
      "source": [
        "def Resumen():\n",
        "  global database\n",
        "  display(database.describe())\n"
      ]
    },
    {
      "cell_type": "code",
      "execution_count": null,
      "metadata": {
        "id": "n6jGETTze5GB"
      },
      "outputs": [],
      "source": [
        "#Muestra valores que cumplen una condicion en una misma columna\n",
        "def Filtrar():\n",
        "  global database\n",
        "  tabla=pd.DataFrame()\n",
        "  data_class=list(database.columns)\n",
        "  rangos=['Mayor a','Menor a','Dentro del rango']\n",
        "  numb=0\n",
        "  for clm in data_class:\n",
        "    print('{}: {}'.format(numb,clm))\n",
        "    numb=numb+1\n",
        "\n",
        "  bc=input('Buscar en: ')\n",
        "  while numeric(bc)!=True:\n",
        "    bc=input('Debe ingresar un entero: ')\n",
        "  bc=data_class[int(bc)]\n",
        "  if str(database[bc].dtype)=='datetime64[ns]':\n",
        "    print('El tipo de dato para {} es {}(AAAA/MM/DD)'.format(bc,database[bc].dtype))\n",
        "  else:\n",
        "    print('El tipo de dato para {} es {}'.format(bc,database[bc].dtype))\n",
        "  print(\"Buscar por:\")\n",
        "  for i in range(len(rangos)):\n",
        "    print('{}: {}'.format(i,rangos[i]))\n",
        "  rng=int(input('Ingrese: '))\n",
        "  val=[]\n",
        "  if rng==0:\n",
        "    val.append(input('Valores mayores a: '))\n",
        "  elif rng==1:\n",
        "    val.append(input('Valores menores a: '))\n",
        "  elif rng==2:\n",
        "    val.append(input('Valores mayores a: '))\n",
        "    val.append(input('Valores menores a: '))\n",
        "  for i in range(len(val)):\n",
        "    if fecha(val[i])!=False and str(database[bc].dtype)==\"datetime64[ns]\":\n",
        "      val[i]=fecha(val[i])\n",
        "    elif numeric(val[i])==True and str(database[bc].dtype)==\"int64\":\n",
        "      val[i]=int(val[i])\n",
        "    elif numeric(val[i])==True and str(database[bc].dtype)==\"float64\":\n",
        "      val[i]=float(val[i])\n",
        "    elif str(database[bc].dtype)==\"object\":\n",
        "      print(\"Solo fechas o numeros\")\n",
        "    else:\n",
        "      print(\"La columna no posee el tipo de dato ingresado\")\n",
        "  if tabla.empty==True:  \n",
        "    if rng==0:\n",
        "      tabla=database[database[bc]>val[0]]\n",
        "    elif rng==1:\n",
        "      tabla=database[database[bc]<val[0]]\n",
        "    elif rng==2:\n",
        "      tabla=database[(database[bc]>val[0]) & (database[bc]<val[1])]   \n",
        "    display(tabla)      \n"
      ]
    },
    {
      "cell_type": "code",
      "execution_count": null,
      "metadata": {
        "id": "ytkoDRHP4a7P"
      },
      "outputs": [],
      "source": [
        "def Nueva_columna():\n",
        "  name=input(\"Ingrese el nombre de la nueva columna: \")\n",
        "  while name in list(database.columns):\n",
        "    name=input(\"Ya existe una columna con ese nombre, ingrese otro: \")\n",
        "  print('Actual mente se cuenta  con {} filas, debera ingresar {} datos'.format(len(database),len(database)))\n",
        "  contenido=[]\n",
        "  ingreso=input('S para iniciar: ').upper()\n",
        "  if ingreso=='S':\n",
        "    for i in range(len(database)):\n",
        "      contenido.append(input('{}: '.format(i)))\n",
        "    database[name]=contenido\n",
        "  else:\n",
        "    print('No se añadira una nueva columna')\n",
        "    \n"
      ]
    },
    {
      "cell_type": "code",
      "execution_count": null,
      "metadata": {
        "id": "ewWr1IpNTFj3"
      },
      "outputs": [],
      "source": [
        "def Grafica_pastel():\n",
        "  global database\n",
        "  data_class=list(database.columns)\n",
        "  numb=0\n",
        "  for clm in data_class:\n",
        "    print('{}: {}'.format(numb,clm))\n",
        "    numb=numb+1\n",
        "  bc=int(input('Graficar con: '))\n",
        "  bc=data_class[bc]\n",
        "  \n",
        "  serie = database[bc].value_counts()\n",
        "  serie.plot.pie(autopct='%1.1f%%')\n"
      ]
    },
    {
      "cell_type": "code",
      "execution_count": null,
      "metadata": {
        "id": "ZLB0HR5RXgsW"
      },
      "outputs": [],
      "source": [
        "def Grafica_barras():\n",
        "  global database\n",
        "  data_class=list(database.columns)\n",
        "  numb=0\n",
        "  for clm in data_class:\n",
        "    print('{}: {}'.format(numb,clm))\n",
        "    numb=numb+1\n",
        "  bc=int(input('Garficar con: '))\n",
        "  bc=data_class[bc]\n",
        "  \n",
        "  serie = database[bc].sort_values(ascending=True).value_counts()\n",
        "  serie.plot.barh()\n",
        "\n"
      ]
    },
    {
      "cell_type": "code",
      "execution_count": null,
      "metadata": {
        "id": "ftW92vHFaJv-"
      },
      "outputs": [],
      "source": [
        "def Grafica_puntos():\n",
        "  global database\n",
        "  data_class=list(database.columns)\n",
        "  numb=0\n",
        "  for clm in data_class:\n",
        "    print('{}: {}'.format(numb,clm))\n",
        "    numb=numb+1\n",
        "  y_label=int(input('Ingresa Y: '))\n",
        "  x_label=int(input('Ingresa X: '))\n",
        "\n",
        "  y_label=data_class[y_label]\n",
        "  x_label=data_class[x_label]\n",
        "  database.plot.scatter(y=y_label,x=x_label)\n"
      ]
    }
  ],
  "metadata": {
    "colab": {
      "collapsed_sections": [],
      "name": "Trabajo_Py_Basico",
      "provenance": [],
      "include_colab_link": true
    },
    "kernelspec": {
      "display_name": "Python 3",
      "name": "python3"
    },
    "language_info": {
      "name": "python"
    }
  },
  "nbformat": 4,
  "nbformat_minor": 0
}